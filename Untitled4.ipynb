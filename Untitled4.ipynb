{
  "cells": [
    {
      "cell_type": "code",
      "execution_count": 1,
      "metadata": {
        "colab": {
          "base_uri": "https://localhost:8080/"
        },
        "id": "Ga7chzBWhk0R",
        "outputId": "4b2f0e53-60ef-4fd3-f34b-f7d4093f2c8f"
      },
      "outputs": [
        {
          "name": "stdout",
          "output_type": "stream",
          "text": [
            "Mounted at /content/drive\n"
          ]
        }
      ],
      "source": [
        "from google.colab import drive\n",
        "drive.mount('/content/drive')\n"
      ]
    },
    {
      "cell_type": "code",
      "execution_count": 2,
      "metadata": {
        "id": "xilSlMXGhmPr"
      },
      "outputs": [],
      "source": [
        "import os\n",
        "import cv2\n",
        "import numpy as np\n",
        "from sklearn.model_selection import train_test_split\n",
        "\n",
        "data_dir = '/content/drive/MyDrive/archive (1)'\n",
        "image_paths = []\n",
        "labels = []\n",
        "\n",
        "for root, _, files in os.walk(data_dir):\n",
        "    for file in files:\n",
        "        if file.endswith(\".jpg\"):\n",
        "            image_paths.append(os.path.join(root, file))\n",
        "            labels.append(1 if \"oil\" in root else 0)\n",
        "\n",
        "\n",
        "X_train, X_val, y_train, y_val = train_test_split(image_paths, labels, test_size=0.2, random_state=42)"
      ]
    },
    {
      "cell_type": "code",
      "execution_count": 4,
      "metadata": {
        "colab": {
          "base_uri": "https://localhost:8080/"
        },
        "id": "uWCSM4mzjffC",
        "outputId": "634fbc79-5401-41d0-f57b-ba9b4d040966"
      },
      "outputs": [
        {
          "name": "stdout",
          "output_type": "stream",
          "text": [
            "X_train_processed shape: (82, 256, 256, 3)\n",
            "X_val_processed shape: (21, 256, 256, 3)\n"
          ]
        }
      ],
      "source": [
        "import cv2\n",
        "import numpy as np\n",
        "\n",
        "def load_and_preprocess_image(image_path, target_size=(256, 256)):\n",
        "\n",
        "    image = cv2.imread(image_path)\n",
        "    image = cv2.resize(image, target_size)\n",
        "    image = image / 255.0\n",
        "\n",
        "    return image\n",
        "\n",
        "X_train_processed = [load_and_preprocess_image(image_path) for image_path in X_train]\n",
        "X_val_processed = [load_and_preprocess_image(image_path) for image_path in X_val]\n",
        "X_train_processed = np.array(X_train_processed)\n",
        "X_val_processed = np.array(X_val_processed)\n",
        "print(\"X_train_processed shape:\", X_train_processed.shape)\n",
        "print(\"X_val_processed shape:\", X_val_processed.shape)\n"
      ]
    },
    {
      "cell_type": "code",
      "execution_count": 13,
      "metadata": {
        "colab": {
          "base_uri": "https://localhost:8080/"
        },
        "id": "q9Ou0IBhlhh8",
        "outputId": "3274379d-16ca-4847-cc5e-e1af6d1ad3a1"
      },
      "outputs": [
        {
          "name": "stdout",
          "output_type": "stream",
          "text": [
            "y_train shape: (82,)\n",
            "y_val shape: (21,)\n"
          ]
        }
      ],
      "source": [
        "y_train = np.array(y_train)\n",
        "y_val = np.array(y_val)\n",
        "print(\"y_train shape:\", y_train.shape)\n",
        "print(\"y_val shape:\", y_val.shape)\n"
      ]
    },
    {
      "cell_type": "code",
      "execution_count": 10,
      "metadata": {
        "colab": {
          "base_uri": "https://localhost:8080/"
        },
        "id": "68Hr8OXwg4My",
        "outputId": "07a0caa1-b04b-475f-c646-7656ed18f8d5"
      },
      "outputs": [
        {
          "name": "stdout",
          "output_type": "stream",
          "text": [
            "Model: \"model_2\"\n",
            "__________________________________________________________________________________________________\n",
            " Layer (type)                   Output Shape         Param #     Connected to                     \n",
            "==================================================================================================\n",
            " input_3 (InputLayer)           [(None, 256, 256, 3  0           []                               \n",
            "                                )]                                                                \n",
            "                                                                                                  \n",
            " conv2d_38 (Conv2D)             (None, 256, 256, 64  1792        ['input_3[0][0]']                \n",
            "                                )                                                                 \n",
            "                                                                                                  \n",
            " conv2d_39 (Conv2D)             (None, 256, 256, 64  36928       ['conv2d_38[0][0]']              \n",
            "                                )                                                                 \n",
            "                                                                                                  \n",
            " max_pooling2d_8 (MaxPooling2D)  (None, 128, 128, 64  0          ['conv2d_39[0][0]']              \n",
            "                                )                                                                 \n",
            "                                                                                                  \n",
            " conv2d_40 (Conv2D)             (None, 128, 128, 12  73856       ['max_pooling2d_8[0][0]']        \n",
            "                                8)                                                                \n",
            "                                                                                                  \n",
            " conv2d_41 (Conv2D)             (None, 128, 128, 12  147584      ['conv2d_40[0][0]']              \n",
            "                                8)                                                                \n",
            "                                                                                                  \n",
            " max_pooling2d_9 (MaxPooling2D)  (None, 64, 64, 128)  0          ['conv2d_41[0][0]']              \n",
            "                                                                                                  \n",
            " conv2d_42 (Conv2D)             (None, 64, 64, 256)  295168      ['max_pooling2d_9[0][0]']        \n",
            "                                                                                                  \n",
            " conv2d_43 (Conv2D)             (None, 64, 64, 256)  590080      ['conv2d_42[0][0]']              \n",
            "                                                                                                  \n",
            " max_pooling2d_10 (MaxPooling2D  (None, 32, 32, 256)  0          ['conv2d_43[0][0]']              \n",
            " )                                                                                                \n",
            "                                                                                                  \n",
            " conv2d_44 (Conv2D)             (None, 32, 32, 512)  1180160     ['max_pooling2d_10[0][0]']       \n",
            "                                                                                                  \n",
            " conv2d_45 (Conv2D)             (None, 32, 32, 512)  2359808     ['conv2d_44[0][0]']              \n",
            "                                                                                                  \n",
            " dropout_4 (Dropout)            (None, 32, 32, 512)  0           ['conv2d_45[0][0]']              \n",
            "                                                                                                  \n",
            " max_pooling2d_11 (MaxPooling2D  (None, 16, 16, 512)  0          ['dropout_4[0][0]']              \n",
            " )                                                                                                \n",
            "                                                                                                  \n",
            " conv2d_46 (Conv2D)             (None, 16, 16, 1024  4719616     ['max_pooling2d_11[0][0]']       \n",
            "                                )                                                                 \n",
            "                                                                                                  \n",
            " conv2d_47 (Conv2D)             (None, 16, 16, 1024  9438208     ['conv2d_46[0][0]']              \n",
            "                                )                                                                 \n",
            "                                                                                                  \n",
            " dropout_5 (Dropout)            (None, 16, 16, 1024  0           ['conv2d_47[0][0]']              \n",
            "                                )                                                                 \n",
            "                                                                                                  \n",
            " conv2d_transpose_8 (Conv2DTran  (None, 32, 32, 512)  2097664    ['dropout_5[0][0]']              \n",
            " spose)                                                                                           \n",
            "                                                                                                  \n",
            " concatenate_8 (Concatenate)    (None, 32, 32, 1024  0           ['conv2d_transpose_8[0][0]',     \n",
            "                                )                                 'dropout_4[0][0]']              \n",
            "                                                                                                  \n",
            " conv2d_48 (Conv2D)             (None, 32, 32, 512)  4719104     ['concatenate_8[0][0]']          \n",
            "                                                                                                  \n",
            " conv2d_49 (Conv2D)             (None, 32, 32, 512)  2359808     ['conv2d_48[0][0]']              \n",
            "                                                                                                  \n",
            " conv2d_transpose_9 (Conv2DTran  (None, 64, 64, 256)  524544     ['conv2d_49[0][0]']              \n",
            " spose)                                                                                           \n",
            "                                                                                                  \n",
            " concatenate_9 (Concatenate)    (None, 64, 64, 512)  0           ['conv2d_transpose_9[0][0]',     \n",
            "                                                                  'conv2d_43[0][0]']              \n",
            "                                                                                                  \n",
            " conv2d_50 (Conv2D)             (None, 64, 64, 256)  1179904     ['concatenate_9[0][0]']          \n",
            "                                                                                                  \n",
            " conv2d_51 (Conv2D)             (None, 64, 64, 256)  590080      ['conv2d_50[0][0]']              \n",
            "                                                                                                  \n",
            " conv2d_transpose_10 (Conv2DTra  (None, 128, 128, 12  131200     ['conv2d_51[0][0]']              \n",
            " nspose)                        8)                                                                \n",
            "                                                                                                  \n",
            " concatenate_10 (Concatenate)   (None, 128, 128, 25  0           ['conv2d_transpose_10[0][0]',    \n",
            "                                6)                                'conv2d_41[0][0]']              \n",
            "                                                                                                  \n",
            " conv2d_52 (Conv2D)             (None, 128, 128, 12  295040      ['concatenate_10[0][0]']         \n",
            "                                8)                                                                \n",
            "                                                                                                  \n",
            " conv2d_53 (Conv2D)             (None, 128, 128, 12  147584      ['conv2d_52[0][0]']              \n",
            "                                8)                                                                \n",
            "                                                                                                  \n",
            " conv2d_transpose_11 (Conv2DTra  (None, 256, 256, 64  32832      ['conv2d_53[0][0]']              \n",
            " nspose)                        )                                                                 \n",
            "                                                                                                  \n",
            " concatenate_11 (Concatenate)   (None, 256, 256, 12  0           ['conv2d_transpose_11[0][0]',    \n",
            "                                8)                                'conv2d_39[0][0]']              \n",
            "                                                                                                  \n",
            " conv2d_54 (Conv2D)             (None, 256, 256, 64  73792       ['concatenate_11[0][0]']         \n",
            "                                )                                                                 \n",
            "                                                                                                  \n",
            " conv2d_55 (Conv2D)             (None, 256, 256, 64  36928       ['conv2d_54[0][0]']              \n",
            "                                )                                                                 \n",
            "                                                                                                  \n",
            " conv2d_56 (Conv2D)             (None, 256, 256, 1)  65          ['conv2d_55[0][0]']              \n",
            "                                                                                                  \n",
            "==================================================================================================\n",
            "Total params: 31,031,745\n",
            "Trainable params: 31,031,745\n",
            "Non-trainable params: 0\n",
            "__________________________________________________________________________________________________\n"
          ]
        }
      ],
      "source": [
        "import tensorflow as tf\n",
        "from tensorflow.keras.layers import Input, Conv2D, MaxPooling2D, Dropout, concatenate, Conv2DTranspose\n",
        "from tensorflow.keras.models import Model\n",
        "\n",
        "# Define the U-Net model\n",
        "def unet_model(input_shape=(256, 256, 3)):\n",
        "    inputs = Input(input_shape)\n",
        "\n",
        "    # Contracting Path\n",
        "    conv1 = Conv2D(64, 3, activation='relu', padding='same')(inputs)\n",
        "    conv1 = Conv2D(64, 3, activation='relu', padding='same')(conv1)\n",
        "    pool1 = MaxPooling2D(pool_size=(2, 2))(conv1)\n",
        "\n",
        "    conv2 = Conv2D(128, 3, activation='relu', padding='same')(pool1)\n",
        "    conv2 = Conv2D(128, 3, activation='relu', padding='same')(conv2)\n",
        "    pool2 = MaxPooling2D(pool_size=(2, 2))(conv2)\n",
        "\n",
        "    conv3 = Conv2D(256, 3, activation='relu', padding='same')(pool2)\n",
        "    conv3 = Conv2D(256, 3, activation='relu', padding='same')(conv3)\n",
        "    pool3 = MaxPooling2D(pool_size=(2, 2))(conv3)\n",
        "\n",
        "    conv4 = Conv2D(512, 3, activation='relu', padding='same')(pool3)\n",
        "    conv4 = Conv2D(512, 3, activation='relu', padding='same')(conv4)\n",
        "    drop4 = Dropout(0.5)(conv4)\n",
        "    pool4 = MaxPooling2D(pool_size=(2, 2))(drop4)\n",
        "\n",
        "    # Bottom of U\n",
        "    conv5 = Conv2D(1024, 3, activation='relu', padding='same')(pool4)\n",
        "    conv5 = Conv2D(1024, 3, activation='relu', padding='same')(conv5)\n",
        "    drop5 = Dropout(0.5)(conv5)\n",
        "\n",
        "    # Expansive Path\n",
        "    up6 = Conv2DTranspose(512, (2, 2), strides=(2, 2), padding='same')(drop5)\n",
        "    up6 = concatenate([up6, drop4], axis=3)\n",
        "    conv6 = Conv2D(512, 3, activation='relu', padding='same')(up6)\n",
        "    conv6 = Conv2D(512, 3, activation='relu', padding='same')(conv6)\n",
        "\n",
        "    up7 = Conv2DTranspose(256, (2, 2), strides=(2, 2), padding='same')(conv6)\n",
        "    up7 = concatenate([up7, conv3], axis=3)\n",
        "    conv7 = Conv2D(256, 3, activation='relu', padding='same')(up7)\n",
        "    conv7 = Conv2D(256, 3, activation='relu', padding='same')(conv7)\n",
        "\n",
        "    up8 = Conv2DTranspose(128, (2, 2), strides=(2, 2), padding='same')(conv7)\n",
        "    up8 = concatenate([up8, conv2], axis=3)\n",
        "    conv8 = Conv2D(128, 3, activation='relu', padding='same')(up8)\n",
        "    conv8 = Conv2D(128, 3, activation='relu', padding='same')(conv8)\n",
        "\n",
        "    up9 = Conv2DTranspose(64, (2, 2), strides=(2, 2), padding='same')(conv8)\n",
        "    up9 = concatenate([up9, conv1], axis=3)\n",
        "    conv9 = Conv2D(64, 3, activation='relu', padding='same')(up9)\n",
        "    conv9 = Conv2D(64, 3, activation='relu', padding='same')(conv9)\n",
        "\n",
        "   # outputs = Conv2D(1, 1, activation='sigmoid')(conv9)  # Output layer for binary segmentation\n",
        "    outputs = Conv2D(1, (1, 1), activation='sigmoid')(conv9)\n",
        "    model = Model(inputs=inputs, outputs=outputs)\n",
        "    return model\n",
        "model = unet_model(input_shape=(256, 256, 3))\n",
        "model.compile(optimizer='adam',\n",
        "              loss='binary_crossentropy',\n",
        "              metrics=['accuracy'])\n",
        "model.summary()"
      ]
    },
    {
      "cell_type": "code",
      "execution_count": 22,
      "metadata": {
        "id": "fwbLuc76g6cC"
      },
      "outputs": [],
      "source": [
        "import tensorflow as tf\n",
        "\n",
        "def dice_loss(y_true, y_pred):\n",
        "    y_true = tf.cast(y_true, tf.float32)\n",
        "    y_pred = tf.cast(y_pred, tf.float32)\n",
        "\n",
        "    intersection = tf.reduce_sum(y_true * y_pred)\n",
        "    union = tf.reduce_sum(y_true + y_pred)\n",
        "    dice = (2.0 * intersection + 1e-5) / (union + 1e-5)\n",
        "    return 1.0 - dice\n",
        "\n",
        "model.compile(optimizer='adam',\n",
        "              loss=dice_loss,\n",
        "              metrics=['accuracy'])\n"
      ]
    },
    {
      "cell_type": "code",
      "execution_count": null,
      "metadata": {
        "colab": {
          "base_uri": "https://localhost:8080/"
        },
        "id": "GMmMJOpwg9UX",
        "outputId": "de06c91c-e58e-4c2c-f242-0e863082013a"
      },
      "outputs": [
        {
          "name": "stdout",
          "output_type": "stream",
          "text": [
            "Epoch 1/10\n",
            "3/3 [==============================] - 756s 243s/step - loss: 1.0000 - accuracy: 0.9966 - val_loss: 1.0000 - val_accuracy: 0.9954\n",
            "Epoch 2/10\n",
            "3/3 [==============================] - 750s 248s/step - loss: 1.0000 - accuracy: 0.9966 - val_loss: 1.0000 - val_accuracy: 0.9954\n",
            "Epoch 3/10\n",
            "3/3 [==============================] - 712s 225s/step - loss: 1.0000 - accuracy: 0.9966 - val_loss: 1.0000 - val_accuracy: 0.9954\n",
            "Epoch 4/10\n",
            "3/3 [==============================] - 702s 224s/step - loss: 1.0000 - accuracy: 0.9966 - val_loss: 1.0000 - val_accuracy: 0.9954\n",
            "Epoch 5/10\n",
            "3/3 [==============================] - 739s 240s/step - loss: 1.0000 - accuracy: 0.9966 - val_loss: 1.0000 - val_accuracy: 0.9954\n",
            "Epoch 6/10\n",
            "3/3 [==============================] - 741s 243s/step - loss: 1.0000 - accuracy: 0.9966 - val_loss: 1.0000 - val_accuracy: 0.9954\n",
            "Epoch 7/10\n",
            "3/3 [==============================] - 737s 242s/step - loss: 1.0000 - accuracy: 0.9966 - val_loss: 1.0000 - val_accuracy: 0.9954\n",
            "Epoch 8/10\n",
            "2/3 [===================>..........] - ETA: 4:24 - loss: 1.0000 - accuracy: 0.9966"
          ]
        }
      ],
      "source": [
        "\n",
        "batch_size = 32\n",
        "epochs = 10\n",
        "\n",
        "history = model.fit(X_train_processed, y_train,\n",
        "                    validation_data=(X_val_processed, y_val),\n",
        "                    batch_size=batch_size,\n",
        "                    epochs=epochs)\n"
      ]
    },
    {
      "cell_type": "code",
      "execution_count": null,
      "metadata": {
        "id": "6OwdIBQCk1iN"
      },
      "outputs": [],
      "source": [
        "val_loss, val_accuracy = model.evaluate(X_val_processed, y_val)\n",
        "print(f\"Validation Accuracy: {val_accuracy*100:.2f}%\")\n"
      ]
    },
    {
      "cell_type": "code",
      "execution_count": null,
      "metadata": {
        "id": "-rfL2Eh9k6Vx"
      },
      "outputs": [],
      "source": [
        "\n",
        "model.save('/content/drive/My Drive/path/to/save/unet_model.h5')\n"
      ]
    }
  ],
  "metadata": {
    "accelerator": "TPU",
    "colab": {
      "provenance": []
    },
    "kernelspec": {
      "display_name": "Python 3",
      "name": "python3"
    },
    "language_info": {
      "name": "python"
    }
  },
  "nbformat": 4,
  "nbformat_minor": 0
}
