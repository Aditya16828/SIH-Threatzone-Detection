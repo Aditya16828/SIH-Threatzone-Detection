{
 "cells": [
  {
   "cell_type": "code",
   "execution_count": 28,
   "metadata": {},
   "outputs": [],
   "source": [
    "WEATHER_API_KEY='52c94fc20a582a91a0994782b8ca2acc'"
   ]
  },
  {
   "cell_type": "code",
   "execution_count": 29,
   "metadata": {},
   "outputs": [
    {
     "data": {
      "text/plain": [
       "'https://api.openweathermap.org/data/2.5/weather?lat={lat}&lon={lon}&appid={API key}'"
      ]
     },
     "execution_count": 29,
     "metadata": {},
     "output_type": "execute_result"
    }
   ],
   "source": [
    "'https://api.openweathermap.org/data/2.5/weather?lat={lat}&lon={lon}&appid={API key}'"
   ]
  },
  {
   "cell_type": "code",
   "execution_count": 30,
   "metadata": {},
   "outputs": [],
   "source": [
    "import requests\n",
    "import pandas as pd\n",
    "import numpy as np"
   ]
  },
  {
   "cell_type": "code",
   "execution_count": 31,
   "metadata": {},
   "outputs": [],
   "source": [
    "long=23.545447\n",
    "lat=87.2876081\n",
    "url = f'https://api.openweathermap.org/data/2.5/weather?lat={lat}&lon={long}&appid={WEATHER_API_KEY}'"
   ]
  },
  {
   "cell_type": "code",
   "execution_count": 32,
   "metadata": {},
   "outputs": [],
   "source": [
    "response = requests.get(url)"
   ]
  },
  {
   "cell_type": "code",
   "execution_count": 33,
   "metadata": {},
   "outputs": [],
   "source": [
    "wind_speed = response.json()['wind']['speed']\n",
    "weather = response.json()['weather'][0]\n",
    "sunset_time = response.json()['sys']['sunset']\n",
    "sunrise_time = response.json()['sys']['sunrise']\n",
    "cloud_cover = response.json()['clouds']['all']"
   ]
  },
  {
   "cell_type": "markdown",
   "metadata": {},
   "source": [
    "Insolation:\n",
    "$Q = S (\\frac{r}{r_0})^2 \\cos θ_0$\n",
    "\n",
    "Q is the daytime insolation (in watts per square meter)  \n",
    "S is the solar constant (1361 watts per square meter)  \n",
    "r is the Earth's distance from the Sun (in meters)  \n",
    "$r_0$ is the Earth's mean distance from the Sun (149.6 million meters)  \n",
    "$θ_0$ is the solar zenith angle (the angle between the sun's rays and the vertical)  \n",
    "\n",
    "---\n",
    "\n",
    "$r = r_0 (1 + 0.0167 \\cos(360 * \\frac{d-3}{365}))$  \n",
    "d is the number of days since January 1st\n",
    "\n",
    "$θ_0 = \\arccos( \\sin (latitude) * \\sin (\\delta) + \\cos(latitude) * \\cos (\\delta)  * \\cos (hour angle) )$\n",
    "\n",
    "$hourangle = (time of day in hours - 12) * 15°$\n",
    "\n",
    "$\\delta = 23.45° * \\sin(360° * \\frac{N - 81}{365})$  \n",
    "N is the day of the year (1-365)\n",
    "\n",
    "---\n",
    "\n",
    "Strong\t    > 100  \n",
    "Moderate\t50-100  \n",
    "Slight\t    < 50  "
   ]
  },
  {
   "cell_type": "code",
   "execution_count": 34,
   "metadata": {},
   "outputs": [],
   "source": [
    "from datetime import date, datetime\n",
    "\n",
    "today = date.today()"
   ]
  },
  {
   "cell_type": "code",
   "execution_count": 35,
   "metadata": {},
   "outputs": [],
   "source": [
    "N = pd.Period(today, freq='D').dayofyear\n",
    "delta = 23.45 * np.sin(np.deg2rad(360 * (N-81) / 365))\n",
    "timeofdayinhrs = datetime.now().hour\n",
    "hourangle = (timeofdayinhrs - 12) * 15\n",
    "theta_not = np.arccos(np.sin(lat) * np.sin(delta) + np.cos(lat) * np.cos(delta) * np.cos(hourangle))\n",
    "d = (date.today() - date(date.today().year,1,1)).days\n",
    "r_by_r0 = (1 + 0.0167*np.cos(360*(d-3)/365))"
   ]
  },
  {
   "cell_type": "code",
   "execution_count": 36,
   "metadata": {},
   "outputs": [],
   "source": [
    "Q = 1361 * r_by_r0**2 * np.cos(theta_not)"
   ]
  },
  {
   "cell_type": "code",
   "execution_count": 37,
   "metadata": {},
   "outputs": [],
   "source": [
    "daytime_insolation_class = ''\n",
    "\n",
    "if Q > 100:\n",
    "    daytime_insolation_class = 'strong'\n",
    "elif Q > 50 and Q <= 100:\n",
    "    daytime_insolation_class = 'moderate'\n",
    "else:\n",
    "    daytime_insolation_class = 'slight'"
   ]
  },
  {
   "cell_type": "code",
   "execution_count": 38,
   "metadata": {},
   "outputs": [
    {
     "data": {
      "text/plain": [
       "(923.3489374574697, 'strong')"
      ]
     },
     "execution_count": 38,
     "metadata": {},
     "output_type": "execute_result"
    }
   ],
   "source": [
    "Q, daytime_insolation_class"
   ]
  },
  {
   "cell_type": "markdown",
   "metadata": {},
   "source": [
    "Nighttime Conditions"
   ]
  },
  {
   "cell_type": "code",
   "execution_count": 39,
   "metadata": {},
   "outputs": [],
   "source": [
    "nighttime_cond = ''\n",
    "if cloud_cover >= 80:\n",
    "    nighttime_cond = 'overcast'\n",
    "else:\n",
    "    nighttime_cond = 'not overcast'"
   ]
  },
  {
   "cell_type": "code",
   "execution_count": 40,
   "metadata": {},
   "outputs": [
    {
     "data": {
      "text/plain": [
       "(99, 'overcast')"
      ]
     },
     "execution_count": 40,
     "metadata": {},
     "output_type": "execute_result"
    }
   ],
   "source": [
    "cloud_cover, nighttime_cond"
   ]
  },
  {
   "cell_type": "markdown",
   "metadata": {},
   "source": [
    "---"
   ]
  },
  {
   "cell_type": "code",
   "execution_count": 44,
   "metadata": {},
   "outputs": [
    {
     "data": {
      "text/plain": [
       "3"
      ]
     },
     "execution_count": 44,
     "metadata": {},
     "output_type": "execute_result"
    }
   ],
   "source": [
    "datetime.utcfromtimestamp(sunrise_time).hour"
   ]
  },
  {
   "cell_type": "code",
   "execution_count": 46,
   "metadata": {},
   "outputs": [],
   "source": [
    "if datetime.now().hour >= datetime.utcfromtimestamp(sunrise_time).hour + 1 and datetime.now().hour <= datetime.utcfromtimestamp(sunset_time).hour - 1:\n",
    "    if wind_speed < 2:\n",
    "        if daytime_insolation_class == 'strong':\n",
    "            stability_class = 'A'\n",
    "        elif daytime_insolation_class == 'moderate':\n",
    "            stability_class = 'B'\n",
    "        else:\n",
    "            stability_class = 'B'\n",
    "    if wind_speed >= 2 and wind_speed < 3:\n",
    "        if daytime_insolation_class == 'strong':\n",
    "            stability_class = 'B'\n",
    "        elif daytime_insolation_class == 'moderate':\n",
    "            stability_class = 'B'\n",
    "        else:\n",
    "            stability_class = 'C'\n",
    "    if wind_speed >= 3 and wind_speed < 4:\n",
    "        if daytime_insolation_class == 'strong':\n",
    "            stability_class = 'B'\n",
    "        elif daytime_insolation_class == 'moderate':\n",
    "            stability_class = 'C'\n",
    "        else:\n",
    "            stability_class = 'C'\n",
    "    if wind_speed >= 4 and wind_speed < 6:\n",
    "        if daytime_insolation_class == 'strong':\n",
    "            stability_class = 'C'\n",
    "        elif daytime_insolation_class == 'moderate':\n",
    "            stability_class = 'D'\n",
    "        else:\n",
    "            stability_class = 'D'\n",
    "    if wind_speed >= 6:\n",
    "        if daytime_insolation_class == 'strong':\n",
    "            stability_class = 'C'\n",
    "        elif daytime_insolation_class == 'moderate':\n",
    "            stability_class = 'D'\n",
    "        else:\n",
    "            stability_class = 'D'\n",
    "else:\n",
    "    if wind_speed < 2:\n",
    "        stability_class = 'F'\n",
    "    if wind_speed >= 2 and wind_speed < 3:\n",
    "        if nighttime_cond == 'overcast':\n",
    "            stability_class = 'F'\n",
    "        else:\n",
    "            stability_class = 'E'\n",
    "    if wind_speed >= 3 and wind_speed < 4:\n",
    "        if nighttime_cond == 'overcast':\n",
    "            stability_class = 'E'\n",
    "        else:\n",
    "            stability_class = 'D'\n",
    "    if wind_speed >= 4 and wind_speed < 6:\n",
    "        stability_class = 'D'\n",
    "    if wind_speed >= 6:\n",
    "        stability_class = 'D'"
   ]
  },
  {
   "cell_type": "code",
   "execution_count": 47,
   "metadata": {},
   "outputs": [
    {
     "data": {
      "text/plain": [
       "'C'"
      ]
     },
     "execution_count": 47,
     "metadata": {},
     "output_type": "execute_result"
    }
   ],
   "source": [
    "stability_class"
   ]
  },
  {
   "cell_type": "markdown",
   "metadata": {},
   "source": [
    "determining r"
   ]
  },
  {
   "cell_type": "code",
   "execution_count": null,
   "metadata": {},
   "outputs": [],
   "source": [
    "E_tnt = 4686 # kJ/kg\n",
    "m = 1 # kg => needed to be determined from plant data (may be database or sensor)\n",
    "eta = 0.15 # explosion efficiency => needed to be estimated but took the worst case where the range would be max.\n",
    "delHc = 0\n",
    "po = 0 # peak sideon overpressure from sensor measurement / database \n",
    "pa = 0 # ambient pressure from sensor measurement / database\n",
    "ps = po/pa"
   ]
  },
  {
   "cell_type": "code",
   "execution_count": null,
   "metadata": {},
   "outputs": [],
   "source": [
    "m_tnt = (eta*m*delHc)/E_tnt\n",
    "ze = (ps/16.2499)**(-1/1.8093) # m/kg^(1/3)\n",
    "r = ze*(m_tnt**(1/3))"
   ]
  },
  {
   "cell_type": "markdown",
   "metadata": {},
   "source": [
    "Puff model"
   ]
  },
  {
   "cell_type": "code",
   "execution_count": null,
   "metadata": {},
   "outputs": [],
   "source": [
    "sigma_x = 0\n",
    "sigma_y = 0\n",
    "sigma_z = 0\n",
    "\n",
    "if stability_class == 'A':\n",
    "    "
   ]
  }
 ],
 "metadata": {
  "kernelspec": {
   "display_name": "Python 3",
   "language": "python",
   "name": "python3"
  },
  "language_info": {
   "codemirror_mode": {
    "name": "ipython",
    "version": 3
   },
   "file_extension": ".py",
   "mimetype": "text/x-python",
   "name": "python",
   "nbconvert_exporter": "python",
   "pygments_lexer": "ipython3",
   "version": "3.11.4"
  },
  "orig_nbformat": 4
 },
 "nbformat": 4,
 "nbformat_minor": 2
}
